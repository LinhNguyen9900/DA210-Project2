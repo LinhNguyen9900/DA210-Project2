{
 "cells": [
  {
   "cell_type": "markdown",
   "id": "8bb81585",
   "metadata": {},
   "source": [
    "# Title                   \n",
    "\n",
    "_Brief and informative, gives some idea of your topic area_  "
   ]
  },
  {
   "cell_type": "markdown",
   "id": "7590ef80",
   "metadata": {},
   "source": []
  },
  {
   "cell_type": "markdown",
   "id": "c912f5bd",
   "metadata": {},
   "source": [
    "## Introduction            \n",
    "\n",
    "_Include core background information and ethical considerations relevant to initial data collection and contemporary use of the data._"
   ]
  },
  {
   "cell_type": "markdown",
   "id": "a21f28b9",
   "metadata": {},
   "source": []
  },
  {
   "cell_type": "markdown",
   "id": "05ab2105",
   "metadata": {},
   "source": [
    "## Database Design \n",
    "\n",
    "_Discuss how the database is structured, and how you have used this information to design your querying strategy. Discuss directly how this approach relates to the topic you decided to explore._"
   ]
  },
  {
   "cell_type": "markdown",
   "id": "cee3d947",
   "metadata": {},
   "source": []
  },
  {
   "cell_type": "markdown",
   "id": "b53c04ec",
   "metadata": {},
   "source": [
    "## Data Exploration        \n",
    "\n",
    "_Use a blend of descriptive statistics and data visualizations to explore the subset. Include code blocks. Discuss potential areas for deeper analysis based on the data._"
   ]
  },
  {
   "cell_type": "markdown",
   "id": "f75ede64",
   "metadata": {},
   "source": []
  },
  {
   "cell_type": "markdown",
   "id": "c36f9ba7",
   "metadata": {},
   "source": [
    "## Uses of Python: Technical Components\n",
    "\n",
    "_Fill in the table below with information about how you satisfied the technical requirements of the assignment._ \n",
    "    \n",
    "| Component | Usage | Explanation | \n",
    "|:---|:---|:---|\n",
    "| _leave this column as-is_ | _name the method(s)/ function(s) you used_ | _Use this area to explain what you were trying to achieve with this particular use of code and to describe why you chose to use this particular method or approach_ | \n",
    "| complex SQL query 1 | c.execute()| retrieve data from one or more tables |\n",
    "| complex SQL query 2| |  | \n",
    "| complex SQL query 3 | | | \n",
    "| table join | | | \n",
    "| GROUP BY clause | | | \n",
    "| WHERE clause | | | \n",
    "| one of LIKE, HAVING, LIMIT, ORDER BY | | | \n",
    "| one SQLite function (e.g., count, max, min, etc.) | | | \n",
    "| dataviz 1 | | | \n",
    "| dataviz 2 | | | \n",
    "| dataviz 3 |  | | \n"
   ]
  },
  {
   "cell_type": "markdown",
   "id": "31ca5a55",
   "metadata": {},
   "source": [
    "## Uses of Python: Reflection          \n",
    "\n",
    "_Take a step back and analyze your own use of code. Provide some rationale for choices you’ve made. Considerations may include performance, human readability, code dependencies, and reproducibility._"
   ]
  },
  {
   "cell_type": "markdown",
   "id": "8c470f83",
   "metadata": {},
   "source": []
  },
  {
   "cell_type": "markdown",
   "id": "327dd151",
   "metadata": {},
   "source": [
    "## References              \n",
    "\n",
    "_List all works cited in the data guide. Use proper APA format._"
   ]
  },
  {
   "cell_type": "markdown",
   "id": "3817634c",
   "metadata": {},
   "source": []
  }
 ],
 "metadata": {
  "kernelspec": {
   "display_name": "Python 3 (ipykernel)",
   "language": "python",
   "name": "python3"
  },
  "language_info": {
   "codemirror_mode": {
    "name": "ipython",
    "version": 3
   },
   "file_extension": ".py",
   "mimetype": "text/x-python",
   "name": "python",
   "nbconvert_exporter": "python",
   "pygments_lexer": "ipython3",
   "version": "3.10.15"
  }
 },
 "nbformat": 4,
 "nbformat_minor": 5
}
